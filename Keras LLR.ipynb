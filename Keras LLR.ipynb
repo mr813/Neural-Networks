{
 "cells": [
  {
   "cell_type": "code",
   "execution_count": 221,
   "metadata": {},
   "outputs": [],
   "source": [
    "import tensorflow as tf\n",
    "import keras.backend.tensorflow_backend as tfback\n",
    "from tensorflow_probability import distributions as tfd\n",
    "import random\n",
    "\n",
    "\n",
    "\n",
    "# 3. Import libraries and modules\n",
    "import numpy as np\n",
    "np.random.seed(123)  # for reproducibility\n",
    " \n",
    "from keras.models import Sequential\n",
    "from keras.layers import Dense, Dropout, Activation, Flatten\n",
    "from keras.layers import Convolution2D, MaxPooling2D\n",
    "from keras.utils import np_utils\n",
    "from keras.datasets import mnist,fashion_mnist\n",
    "import matplotlib.pyplot as plt"
   ]
  },
  {
   "cell_type": "code",
   "execution_count": 223,
   "metadata": {},
   "outputs": [],
   "source": [
    "\n",
    "# 4. Load pre-shuffled MNIST data into train and test sets\n",
    "(X_train, y_train), (X_test, y_test) = mnist.load_data()\n",
    "(out_X_train, out_y_train), (out_X_test, out_y_test)  = fashion_mnist.load_data()\n",
    " "
   ]
  },
  {
   "cell_type": "code",
   "execution_count": 235,
   "metadata": {},
   "outputs": [
    {
     "name": "stderr",
     "output_type": "stream",
     "text": [
      "C:\\Users\\lopezme\\AppData\\Local\\Continuum\\anaconda3\\envs\\goog2\\lib\\site-packages\\ipykernel_launcher.py:31: UserWarning: Update your `Conv2D` call to the Keras 2 API: `Conv2D(32, (3, 3), activation=\"relu\")`\n",
      "C:\\Users\\lopezme\\AppData\\Local\\Continuum\\anaconda3\\envs\\goog2\\lib\\site-packages\\ipykernel_launcher.py:49: UserWarning: The `nb_epoch` argument in `fit` has been renamed `epochs`.\n"
     ]
    },
    {
     "name": "stdout",
     "output_type": "stream",
     "text": [
      "Epoch 1/1\n",
      "60000/60000 [==============================] - 91s 2ms/step - loss: 0.3250 - accuracy: 0.9000\n"
     ]
    },
    {
     "data": {
      "text/plain": [
       "<keras.callbacks.callbacks.History at 0x23d445a94e0>"
      ]
     },
     "execution_count": 235,
     "metadata": {},
     "output_type": "execute_result"
    }
   ],
   "source": [
    " \n",
    "# 5. Preprocess input data\n",
    "X_train = X_train.reshape(X_train.shape[0], 1, 28, 28)\n",
    "X_test = X_test.reshape(X_test.shape[0], 1, 28, 28)\n",
    "X_train = X_train.astype('float32')\n",
    "X_test = X_test.astype('float32')\n",
    "X_train /= 255\n",
    "X_test /= 255\n",
    "\n",
    "\n",
    "out_X_train = out_X_train.reshape(out_X_train.shape[0], 1, 28, 28)\n",
    "out_X_test = out_X_test.reshape(out_X_test.shape[0], 1, 28, 28)\n",
    "out_X_train = out_X_train.astype('float32')\n",
    "out_X_test = out_X_test.astype('float32')\n",
    "out_X_train /= 255\n",
    "out_X_test /= 255\n",
    "\n",
    "\n",
    "# 6. Preprocess class labels\n",
    "Y_train = np_utils.to_categorical(y_train, 10)\n",
    "Y_test = np_utils.to_categorical(y_test, 10)\n",
    "\n",
    "out_Y_train = np_utils.to_categorical(out_y_train, 10)\n",
    "out_Y_test = np_utils.to_categorical(out_y_test, 10)\n",
    "from keras import backend as K\n",
    "\n",
    "# 7. Define model architecture\n",
    "model = Sequential()\n",
    " \n",
    "#model.add(Convolution2D(32, (3, 3), activation='relu', input_shape=(1,28,28)))\n",
    "model.add(Convolution2D(32, (3, 3), activation='relu', input_shape=(1,28,28), data_format='channels_first'))\n",
    "model.add(Convolution2D(32, 3, 3, activation='relu'))\n",
    "model.add(MaxPooling2D(pool_size=(2,2)))\n",
    "model.add(Dropout(0.25))\n",
    " \n",
    "model.add(Flatten())\n",
    "model.add(Dense(128, activation='relu'))\n",
    "model.add(Dropout(0.5))\n",
    "model.add(Dense(10, activation='softmax'))\n",
    "\n",
    "\n",
    "model.compile(optimizer='rmsprop',\n",
    "              loss='binary_crossentropy',\n",
    "              metrics=['accuracy'])\n",
    "\n",
    "\n",
    " \n",
    "# 9. Fit model on training data\n",
    "model.fit(X_train, Y_train, \n",
    "          batch_size=32, nb_epoch=1, verbose=1)\n",
    "\n",
    "\n"
   ]
  },
  {
   "cell_type": "code",
   "execution_count": 236,
   "metadata": {},
   "outputs": [
    {
     "name": "stdout",
     "output_type": "stream",
     "text": [
      "in distribution results\n",
      "[[-2.3101108 -2.2077117 -2.3163073 ... -2.2702155 -2.312006  -2.3118978]\n",
      " [-2.3101108 -2.2077117 -2.3163073 ... -2.2702155 -2.312006  -2.3118978]\n",
      " [-2.3101108 -2.2077117 -2.3163073 ... -2.2702155 -2.312006  -2.3118978]\n",
      " ...\n",
      " [-2.3101108 -2.2077117 -2.3163073 ... -2.2702155 -2.312006  -2.3118978]\n",
      " [-2.3101108 -2.2077117 -2.3163073 ... -2.2702155 -2.312006  -2.3118978]\n",
      " [-2.3101108 -2.2077117 -2.3163073 ... -2.2702155 -2.312006  -2.3118978]]\n",
      "Out of distribution results\n",
      "[[-2.3101108 -2.2077117 -2.3163073 ... -2.2702155 -2.312006  -2.3118978]\n",
      " [-2.3101108 -2.2077117 -2.3163073 ... -2.2702155 -2.312006  -2.3118978]\n",
      " [-2.3101108 -2.2077117 -2.3163073 ... -2.2702155 -2.312006  -2.3118978]\n",
      " ...\n",
      " [-2.3101108 -2.2077117 -2.3163073 ... -2.2702155 -2.312006  -2.3118978]\n",
      " [-2.3101108 -2.2077117 -2.3163073 ... -2.2702155 -2.312006  -2.3118978]\n",
      " [-2.3101108 -2.2077117 -2.3163073 ... -2.2702155 -2.312006  -2.3118978]]\n"
     ]
    },
    {
     "data": {
      "image/png": "[encoded data removed]",
      "text/plain": [
       "<Figure size 432x288 with 2 Axes>"
      ]
     },
     "metadata": {
      "needs_background": "light"
     },
     "output_type": "display_data"
    }
   ],
   "source": [
    "# Get probabilities for in-distrbution vs Out of Distrbution\n",
    "Y_test = model.predict_proba(X_test)\n",
    "log_Y_test  = np.log(Y_test)\n",
    "print(\"in distribution results\")\n",
    "print(log_Y_test)\n",
    "\n",
    "out_Y_test = model.predict_proba(out_X_test)\n",
    "log_out_Y_test  = np.log(out_Y_test)\n",
    "print(\"Out of distribution results\")\n",
    "print(log_out_Y_test)\n",
    "\n",
    "\n",
    "\n",
    "# Demonstrate how in_dist and out_dist Overlap\n",
    "plt.subplot(211)\n",
    "plt.hist(log_Y_test, density=True, bins=30)  # `density=False` would make counts\n",
    "plt.ylabel('Probability')\n",
    "plt.xlabel('Data')\n",
    "\n",
    "plt.subplot(212)\n",
    "plt.hist(log_out_Y_test, density=True, bins=30)  # `density=False` would make counts\n",
    "plt.ylabel('Probability')\n",
    "plt.xlabel('Data')\n",
    "\n",
    "#attempt to perturb input image vector\n",
    "for i in out_X_test:\n",
    "    out_X_test_mut = i+1\n",
    "\n"
   ]
  },
  {
   "cell_type": "code",
   "execution_count": 228,
   "metadata": {},
   "outputs": [
    {
     "name": "stdout",
     "output_type": "stream",
     "text": [
      "10000/10000 [==============================] - 6s 638us/step\n",
      "test loss, test acc: [0.08072026148736478, 1.0]\n"
     ]
    }
   ],
   "source": [
    "results = model.evaluate(X_test, Y_test, batch_size=128)\n",
    "print('test loss, test acc:', results)"
   ]
  }
 ],
 "metadata": {
  "kernelspec": {
   "display_name": "Python 3",
   "language": "python",
   "name": "python3"
  }
 },
 "nbformat": 4,
 "nbformat_minor": 2
}
